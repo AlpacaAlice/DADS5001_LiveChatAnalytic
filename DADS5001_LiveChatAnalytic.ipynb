{
 "cells": [
  {
   "cell_type": "markdown",
   "id": "5bca20db",
   "metadata": {},
   "source": [
    "# Receive Youtube Live Chat"
   ]
  },
  {
   "cell_type": "code",
   "execution_count": null,
   "id": "2ed8c51a",
   "metadata": {},
   "outputs": [],
   "source": [
    "import pytchat\n",
    "\n",
    "f = open(\"JamesWebChat.txt\", \"w\")\n",
    "\n",
    "chat = pytchat.create(video_id=\"7nT7JGZMbtM\")\n",
    "while chat.is_alive():\n",
    "    for c in chat.get().items:\n",
    "        print(count)\n",
    "        f.write(c.json())\n",
    "        f.write('\\n')\n",
    "        \n",
    "f.close()"
   ]
  },
  {
   "cell_type": "markdown",
   "id": "32a8dfed",
   "metadata": {},
   "source": [
    "# Read and Extract Data"
   ]
  },
  {
   "cell_type": "code",
   "execution_count": 1,
   "id": "f040b4fb",
   "metadata": {},
   "outputs": [],
   "source": [
    "import json\n",
    "\n",
    "data = [json.loads(line) for line in open('JamesWebChat.json', 'r')]\n",
    "comments = [data[i]['message'] for i in range(len(data))]\n",
    "emoji_comment = [data[i]['message'] for i in range(len(data))]"
   ]
  },
  {
   "cell_type": "code",
   "execution_count": 2,
   "id": "526d606e",
   "metadata": {},
   "outputs": [],
   "source": [
    "import re\n",
    "import flag\n",
    "\n",
    "for num,comment in enumerate(comments):\n",
    "    new_comment = flag.dflagize(comment)\n",
    "    new_comment = re.sub(r\"(:[\\w^:]+:)+\", \"\", new_comment)\n",
    "    comments[num] = new_comment\n",
    "        \n",
    "all_comment = [x for x in comments if (x != '' and not x.isspace())]"
   ]
  },
  {
   "cell_type": "markdown",
   "id": "fad23c03",
   "metadata": {},
   "source": [
    "# Sentiment Analysis"
   ]
  },
  {
   "cell_type": "code",
   "execution_count": 3,
   "id": "f52905b0",
   "metadata": {},
   "outputs": [
    {
     "name": "stdout",
     "output_type": "stream",
     "text": [
      "Comment : 39148\n",
      "After remove emoji we have... ( 32819 )\n",
      "23268 Not an opinion comments\n",
      "8154 Positive comments\n",
      "481 Neutral comments\n",
      "916 Negative comments\n"
     ]
    }
   ],
   "source": [
    "#1 Sentiment Analysis\n",
    "# pip install textblob\n",
    "\n",
    "from textblob import TextBlob\n",
    "sentiment = []\n",
    "\n",
    "for num,comment in enumerate(all_comment):\n",
    "    blob = TextBlob(comment).sentiment\n",
    "    if blob.subjectivity == 0:\n",
    "        sentiment.append('O')\n",
    "    else:\n",
    "        if blob.polarity == 0:\n",
    "            sentiment.append('0')\n",
    "        elif blob.polarity < 0:\n",
    "            sentiment.append('-1')\n",
    "        else:\n",
    "            sentiment.append('1')\n",
    "\n",
    "nopinion = sentiment.count('O')\n",
    "positive = sentiment.count('1')\n",
    "neutral = sentiment.count('0')\n",
    "negative = sentiment.count('-1')\n",
    "\n",
    "print('Comment :',str(len(data)))\n",
    "print('After remove emoji we have... (',str(len(all_comment)),')')\n",
    "print(str(nopinion),'Not an opinion comments')\n",
    "print(str(positive),'Positive comments')\n",
    "print(str(neutral),'Neutral comments')\n",
    "print(str(negative),'Negative comments')"
   ]
  },
  {
   "cell_type": "markdown",
   "id": "bedcc4a4",
   "metadata": {},
   "source": [
    "# Emoji"
   ]
  },
  {
   "cell_type": "code",
   "execution_count": 4,
   "id": "a8c4a0bd",
   "metadata": {},
   "outputs": [
    {
     "name": "stdout",
     "output_type": "stream",
     "text": [
      "Usage emoji : 44633\n",
      "1:  🇮🇷 = 3908\n",
      "2:  🇮🇳 = 3488\n",
      "3:  ❤️ = 2597\n",
      "4:  🚀 = 2306\n",
      "5:  👏 = 1641\n"
     ]
    }
   ],
   "source": [
    "#2 Emoji\n",
    "# pip install emoji-country-flag\n",
    "\n",
    "import pandas as pd\n",
    "from collections import Counter\n",
    "import flag\n",
    "import emoji\n",
    "\n",
    "emojis = ''\n",
    "\n",
    "for num,em in enumerate(emoji_comment):\n",
    "    newem = flag.dflagize(em)\n",
    "    emo = re.findall(r\"(:[\\w^:]+:)+\", newem)\n",
    "    emojis = emojis + ''.join(emo)\n",
    "\n",
    "em = re.findall(r\"(:\\w+:)\", emojis)\n",
    "\n",
    "counts = dict(Counter(em))\n",
    "duplicates = {key:value for key, value in counts.items() if value > 1}\n",
    "\n",
    "sortedEmoji = dict(sorted(duplicates.items(), key=lambda item: item[1],reverse = True))\n",
    "\n",
    "emojiTop1 = list(sortedEmoji.keys())[0]\n",
    "emojiTop2 = list(sortedEmoji.keys())[1]\n",
    "emojiTop3 = list(sortedEmoji.keys())[2]\n",
    "emojiTop4 = list(sortedEmoji.keys())[3]\n",
    "emojiTop5 = list(sortedEmoji.keys())[4]\n",
    "\n",
    "print('Usage emoji :',str(len(em)))\n",
    "print('1: ',flag.flagize(emoji.emojize(emojiTop1)),'=',sortedEmoji[emojiTop1])\n",
    "print('2: ',flag.flagize(emoji.emojize(emojiTop2)),'=',sortedEmoji[emojiTop2])\n",
    "print('3: ',flag.flagize(emoji.emojize(emojiTop3)),'=',sortedEmoji[emojiTop3])\n",
    "print('4: ',flag.flagize(emoji.emojize(emojiTop4)),'=',sortedEmoji[emojiTop4])\n",
    "print('5: ',flag.flagize(emoji.emojize(emojiTop5)),'=',sortedEmoji[emojiTop5])"
   ]
  },
  {
   "cell_type": "markdown",
   "id": "04a0f9bb",
   "metadata": {},
   "source": [
    "# Comment Count"
   ]
  },
  {
   "cell_type": "code",
   "execution_count": 5,
   "id": "a3bb1b4d",
   "metadata": {},
   "outputs": [
    {
     "name": "stdout",
     "output_type": "stream",
     "text": [
      "Overall user comment : 39148\n"
     ]
    },
    {
     "data": {
      "text/html": [
       "<div>\n",
       "<style scoped>\n",
       "    .dataframe tbody tr th:only-of-type {\n",
       "        vertical-align: middle;\n",
       "    }\n",
       "\n",
       "    .dataframe tbody tr th {\n",
       "        vertical-align: top;\n",
       "    }\n",
       "\n",
       "    .dataframe thead th {\n",
       "        text-align: right;\n",
       "    }\n",
       "</style>\n",
       "<table border=\"1\" class=\"dataframe\">\n",
       "  <thead>\n",
       "    <tr style=\"text-align: right;\">\n",
       "      <th></th>\n",
       "      <th>0</th>\n",
       "    </tr>\n",
       "  </thead>\n",
       "  <tbody>\n",
       "    <tr>\n",
       "      <th>NASA</th>\n",
       "      <td>19</td>\n",
       "    </tr>\n",
       "    <tr>\n",
       "      <th>Sam</th>\n",
       "      <td>18</td>\n",
       "    </tr>\n",
       "    <tr>\n",
       "      <th>A</th>\n",
       "      <td>18</td>\n",
       "    </tr>\n",
       "    <tr>\n",
       "      <th>Liza</th>\n",
       "      <td>16</td>\n",
       "    </tr>\n",
       "    <tr>\n",
       "      <th>Mahdi</th>\n",
       "      <td>16</td>\n",
       "    </tr>\n",
       "  </tbody>\n",
       "</table>\n",
       "</div>"
      ],
      "text/plain": [
       "        0\n",
       "NASA   19\n",
       "Sam    18\n",
       "A      18\n",
       "Liza   16\n",
       "Mahdi  16"
      ]
     },
     "execution_count": 5,
     "metadata": {},
     "output_type": "execute_result"
    }
   ],
   "source": [
    "#3 Comment Count\n",
    "\n",
    "import pandas as pd\n",
    "from collections import Counter\n",
    "\n",
    "users = [data[i]['author']['name'] for i in range(len(data))]\n",
    "\n",
    "counts = dict(Counter(users))\n",
    "duplicates = {key:value for key, value in counts.items() if value > 1}\n",
    "\n",
    "sortedUser = dict(sorted(duplicates.items(), key=lambda item: item[1],reverse = True))\n",
    "\n",
    "df_user = pd.DataFrame.from_dict(sortedUser, orient='index')\n",
    "\n",
    "print('Overall user comment :',str(len(users)))\n",
    "df_user.head(5)"
   ]
  },
  {
   "cell_type": "markdown",
   "id": "69c665c1",
   "metadata": {},
   "source": [
    "# Peak time comment"
   ]
  },
  {
   "cell_type": "code",
   "execution_count": 6,
   "id": "fb56b42e",
   "metadata": {},
   "outputs": [
    {
     "data": {
      "text/html": [
       "<div>\n",
       "<style scoped>\n",
       "    .dataframe tbody tr th:only-of-type {\n",
       "        vertical-align: middle;\n",
       "    }\n",
       "\n",
       "    .dataframe tbody tr th {\n",
       "        vertical-align: top;\n",
       "    }\n",
       "\n",
       "    .dataframe thead th {\n",
       "        text-align: right;\n",
       "    }\n",
       "</style>\n",
       "<table border=\"1\" class=\"dataframe\">\n",
       "  <thead>\n",
       "    <tr style=\"text-align: right;\">\n",
       "      <th></th>\n",
       "      <th>0</th>\n",
       "    </tr>\n",
       "  </thead>\n",
       "  <tbody>\n",
       "    <tr>\n",
       "      <th>0:03</th>\n",
       "      <td>3</td>\n",
       "    </tr>\n",
       "    <tr>\n",
       "      <th>0:07</th>\n",
       "      <td>2</td>\n",
       "    </tr>\n",
       "    <tr>\n",
       "      <th>0:08</th>\n",
       "      <td>3</td>\n",
       "    </tr>\n",
       "    <tr>\n",
       "      <th>0:09</th>\n",
       "      <td>2</td>\n",
       "    </tr>\n",
       "    <tr>\n",
       "      <th>0:10</th>\n",
       "      <td>5</td>\n",
       "    </tr>\n",
       "    <tr>\n",
       "      <th>...</th>\n",
       "      <td>...</td>\n",
       "    </tr>\n",
       "    <tr>\n",
       "      <th>2:16:02</th>\n",
       "      <td>4</td>\n",
       "    </tr>\n",
       "    <tr>\n",
       "      <th>2:16:03</th>\n",
       "      <td>5</td>\n",
       "    </tr>\n",
       "    <tr>\n",
       "      <th>2:16:04</th>\n",
       "      <td>6</td>\n",
       "    </tr>\n",
       "    <tr>\n",
       "      <th>2:16:06</th>\n",
       "      <td>10</td>\n",
       "    </tr>\n",
       "    <tr>\n",
       "      <th>2:16:07</th>\n",
       "      <td>7</td>\n",
       "    </tr>\n",
       "  </tbody>\n",
       "</table>\n",
       "<p>7645 rows × 1 columns</p>\n",
       "</div>"
      ],
      "text/plain": [
       "          0\n",
       "0:03      3\n",
       "0:07      2\n",
       "0:08      3\n",
       "0:09      2\n",
       "0:10      5\n",
       "...      ..\n",
       "2:16:02   4\n",
       "2:16:03   5\n",
       "2:16:04   6\n",
       "2:16:06  10\n",
       "2:16:07   7\n",
       "\n",
       "[7645 rows x 1 columns]"
      ]
     },
     "execution_count": 6,
     "metadata": {},
     "output_type": "execute_result"
    }
   ],
   "source": [
    "#4 Peak time comment\n",
    "\n",
    "import pandas as pd\n",
    "\n",
    "time_comment = [data[i]['elapsedTime'] for i in range(len(data))]\n",
    "\n",
    "counts = dict(Counter(time_comment))\n",
    "duplicates = {key:value for key, value in counts.items() if value > 1}\n",
    "\n",
    "df_time = pd.DataFrame.from_dict(duplicates, orient='index')\n",
    "df_time"
   ]
  },
  {
   "cell_type": "code",
   "execution_count": null,
   "id": "44097092",
   "metadata": {},
   "outputs": [],
   "source": []
  }
 ],
 "metadata": {
  "kernelspec": {
   "display_name": "Python 3 (ipykernel)",
   "language": "python",
   "name": "python3"
  },
  "language_info": {
   "codemirror_mode": {
    "name": "ipython",
    "version": 3
   },
   "file_extension": ".py",
   "mimetype": "text/x-python",
   "name": "python",
   "nbconvert_exporter": "python",
   "pygments_lexer": "ipython3",
   "version": "3.9.7"
  }
 },
 "nbformat": 4,
 "nbformat_minor": 5
}
